{
 "cells": [
  {
   "cell_type": "code",
   "execution_count": 19,
   "metadata": {
    "collapsed": false
   },
   "outputs": [],
   "source": [
    "library(dplyr)\n",
    "library(tidyr)"
   ]
  },
  {
   "cell_type": "markdown",
   "metadata": {},
   "source": [
    "## Reading data"
   ]
  },
  {
   "cell_type": "code",
   "execution_count": 153,
   "metadata": {
    "collapsed": false
   },
   "outputs": [],
   "source": [
    "M<-read.table(\"Manuka.txt\", h=T)\n"
   ]
  },
  {
   "cell_type": "code",
   "execution_count": 182,
   "metadata": {
    "collapsed": false
   },
   "outputs": [
    {
     "data": {
      "text/html": [
       "<table>\n",
       "<thead><tr><th scope=col>rs</th><th scope=col>X1K894.R1.a_C9.RHA.XX_1_251_X4</th><th scope=col>X1K894.R1.b_C9.RHA.XX_1_251_X4</th><th scope=col>X1K894.R2.a_C9.RHA.XX_2_252_X4</th><th scope=col>X1K894.R2.b_C9.RHA.XX_2_252_X4</th><th scope=col>X1K89R.R1.a_C9.RHA.XX_1_251_X4</th><th scope=col>X1K89R.R1.b_C9.RHA.XX_1_251_X4</th><th scope=col>X1K89R.R2.a_C9.RHA.XX_2_252_X4</th><th scope=col>X1K89R.R2.b_C9.RHA.XX_2_252_X4</th><th scope=col>X1.4GT_C9.RHA.XX_2_252_X4</th><th scope=col>X1.4GV_C9.RHA.XX_2_252_X4</th></tr></thead>\n",
       "<tbody>\n",
       "\t<tr><td>TP131528</td><td>127|127 </td><td>127|93  </td><td>127|127 </td><td>127|118 </td><td>127|2   </td><td>127|14  </td><td>127|0   </td><td>127|1   </td><td>127|127 </td><td>127|127 </td></tr>\n",
       "\t<tr><td>TP133733</td><td>127|9   </td><td>127|5   </td><td>127|42  </td><td>127|10  </td><td>127|19  </td><td>127|31  </td><td>127|46  </td><td>127|19  </td><td>127|20  </td><td>127|51  </td></tr>\n",
       "\t<tr><td>TP163110</td><td>39|10   </td><td>34|13   </td><td>77|24   </td><td>32|15   </td><td>56|14   </td><td>79|26   </td><td>127|43  </td><td>76|24   </td><td>113|0   </td><td>127|54  </td></tr>\n",
       "\t<tr><td>TP68134 </td><td>45|15   </td><td>34|12   </td><td>82|18   </td><td>54|10   </td><td>34|16   </td><td>41|8    </td><td>127|43  </td><td>64|11   </td><td>44|12   </td><td>127|0   </td></tr>\n",
       "\t<tr><td>TP26092 </td><td>32|18   </td><td>25|11   </td><td>50|29   </td><td>29|13   </td><td>22|6    </td><td>35|23   </td><td>114|54  </td><td>46|20   </td><td>37|9    </td><td>99|45   </td></tr>\n",
       "\t<tr><td>TP120777</td><td>38|3    </td><td>30|2    </td><td>83|21   </td><td>36|8    </td><td>40|3    </td><td>73|6    </td><td>101|19  </td><td>52|8    </td><td>38|6    </td><td>96|16   </td></tr>\n",
       "</tbody>\n",
       "</table>\n"
      ],
      "text/latex": [
       "\\begin{tabular}{r|lllllllllll}\n",
       " rs & X1K894.R1.a\\_C9.RHA.XX\\_1\\_251\\_X4 & X1K894.R1.b\\_C9.RHA.XX\\_1\\_251\\_X4 & X1K894.R2.a\\_C9.RHA.XX\\_2\\_252\\_X4 & X1K894.R2.b\\_C9.RHA.XX\\_2\\_252\\_X4 & X1K89R.R1.a\\_C9.RHA.XX\\_1\\_251\\_X4 & X1K89R.R1.b\\_C9.RHA.XX\\_1\\_251\\_X4 & X1K89R.R2.a\\_C9.RHA.XX\\_2\\_252\\_X4 & X1K89R.R2.b\\_C9.RHA.XX\\_2\\_252\\_X4 & X1.4GT\\_C9.RHA.XX\\_2\\_252\\_X4 & X1.4GV\\_C9.RHA.XX\\_2\\_252\\_X4\\\\\n",
       "\\hline\n",
       "\t TP131528          & 127\\textbar{}127 & 127\\textbar{}93  & 127\\textbar{}127 & 127\\textbar{}118 & 127\\textbar{}2   & 127\\textbar{}14  & 127\\textbar{}0   & 127\\textbar{}1   & 127\\textbar{}127 & 127\\textbar{}127\\\\\n",
       "\t TP133733          & 127\\textbar{}9   & 127\\textbar{}5   & 127\\textbar{}42  & 127\\textbar{}10  & 127\\textbar{}19  & 127\\textbar{}31  & 127\\textbar{}46  & 127\\textbar{}19  & 127\\textbar{}20  & 127\\textbar{}51 \\\\\n",
       "\t TP163110          & 39\\textbar{}10   & 34\\textbar{}13   & 77\\textbar{}24   & 32\\textbar{}15   & 56\\textbar{}14   & 79\\textbar{}26   & 127\\textbar{}43  & 76\\textbar{}24   & 113\\textbar{}0   & 127\\textbar{}54 \\\\\n",
       "\t TP68134           & 45\\textbar{}15   & 34\\textbar{}12   & 82\\textbar{}18   & 54\\textbar{}10   & 34\\textbar{}16   & 41\\textbar{}8    & 127\\textbar{}43  & 64\\textbar{}11   & 44\\textbar{}12   & 127\\textbar{}0  \\\\\n",
       "\t TP26092           & 32\\textbar{}18   & 25\\textbar{}11   & 50\\textbar{}29   & 29\\textbar{}13   & 22\\textbar{}6    & 35\\textbar{}23   & 114\\textbar{}54  & 46\\textbar{}20   & 37\\textbar{}9    & 99\\textbar{}45  \\\\\n",
       "\t TP120777          & 38\\textbar{}3    & 30\\textbar{}2    & 83\\textbar{}21   & 36\\textbar{}8    & 40\\textbar{}3    & 73\\textbar{}6    & 101\\textbar{}19  & 52\\textbar{}8    & 38\\textbar{}6    & 96\\textbar{}16  \\\\\n",
       "\\end{tabular}\n"
      ],
      "text/plain": [
       "  rs       X1K894.R1.a_C9.RHA.XX_1_251_X4 X1K894.R1.b_C9.RHA.XX_1_251_X4\n",
       "1 TP131528 127|127                        127|93                        \n",
       "2 TP133733 127|9                          127|5                         \n",
       "3 TP163110 39|10                          34|13                         \n",
       "4 TP68134  45|15                          34|12                         \n",
       "5 TP26092  32|18                          25|11                         \n",
       "6 TP120777 38|3                           30|2                          \n",
       "  X1K894.R2.a_C9.RHA.XX_2_252_X4 X1K894.R2.b_C9.RHA.XX_2_252_X4\n",
       "1 127|127                        127|118                       \n",
       "2 127|42                         127|10                        \n",
       "3 77|24                          32|15                         \n",
       "4 82|18                          54|10                         \n",
       "5 50|29                          29|13                         \n",
       "6 83|21                          36|8                          \n",
       "  X1K89R.R1.a_C9.RHA.XX_1_251_X4 X1K89R.R1.b_C9.RHA.XX_1_251_X4\n",
       "1 127|2                          127|14                        \n",
       "2 127|19                         127|31                        \n",
       "3 56|14                          79|26                         \n",
       "4 34|16                          41|8                          \n",
       "5 22|6                           35|23                         \n",
       "6 40|3                           73|6                          \n",
       "  X1K89R.R2.a_C9.RHA.XX_2_252_X4 X1K89R.R2.b_C9.RHA.XX_2_252_X4\n",
       "1 127|0                          127|1                         \n",
       "2 127|46                         127|19                        \n",
       "3 127|43                         76|24                         \n",
       "4 127|43                         64|11                         \n",
       "5 114|54                         46|20                         \n",
       "6 101|19                         52|8                          \n",
       "  X1.4GT_C9.RHA.XX_2_252_X4 X1.4GV_C9.RHA.XX_2_252_X4\n",
       "1 127|127                   127|127                  \n",
       "2 127|20                    127|51                   \n",
       "3 113|0                     127|54                   \n",
       "4 44|12                     127|0                    \n",
       "5 37|9                      99|45                    \n",
       "6 38|6                      96|16                    "
      ]
     },
     "metadata": {},
     "output_type": "display_data"
    }
   ],
   "source": [
    "head(M)"
   ]
  },
  {
   "cell_type": "markdown",
   "metadata": {},
   "source": [
    "## Checking columns"
   ]
  },
  {
   "cell_type": "code",
   "execution_count": 183,
   "metadata": {
    "collapsed": false
   },
   "outputs": [
    {
     "data": {
      "text/html": [
       "<ol class=list-inline>\n",
       "\t<li>'rs'</li>\n",
       "\t<li>'X1K894.R1.a_C9.RHA.XX_1_251_X4'</li>\n",
       "\t<li>'X1K894.R1.b_C9.RHA.XX_1_251_X4'</li>\n",
       "\t<li>'X1K894.R2.a_C9.RHA.XX_2_252_X4'</li>\n",
       "\t<li>'X1K894.R2.b_C9.RHA.XX_2_252_X4'</li>\n",
       "\t<li>'X1K89R.R1.a_C9.RHA.XX_1_251_X4'</li>\n",
       "\t<li>'X1K89R.R1.b_C9.RHA.XX_1_251_X4'</li>\n",
       "\t<li>'X1K89R.R2.a_C9.RHA.XX_2_252_X4'</li>\n",
       "\t<li>'X1K89R.R2.b_C9.RHA.XX_2_252_X4'</li>\n",
       "\t<li>'X1.4GT_C9.RHA.XX_2_252_X4'</li>\n",
       "\t<li>'X1.4GV_C9.RHA.XX_2_252_X4'</li>\n",
       "</ol>\n"
      ],
      "text/latex": [
       "\\begin{enumerate*}\n",
       "\\item 'rs'\n",
       "\\item 'X1K894.R1.a\\_C9.RHA.XX\\_1\\_251\\_X4'\n",
       "\\item 'X1K894.R1.b\\_C9.RHA.XX\\_1\\_251\\_X4'\n",
       "\\item 'X1K894.R2.a\\_C9.RHA.XX\\_2\\_252\\_X4'\n",
       "\\item 'X1K894.R2.b\\_C9.RHA.XX\\_2\\_252\\_X4'\n",
       "\\item 'X1K89R.R1.a\\_C9.RHA.XX\\_1\\_251\\_X4'\n",
       "\\item 'X1K89R.R1.b\\_C9.RHA.XX\\_1\\_251\\_X4'\n",
       "\\item 'X1K89R.R2.a\\_C9.RHA.XX\\_2\\_252\\_X4'\n",
       "\\item 'X1K89R.R2.b\\_C9.RHA.XX\\_2\\_252\\_X4'\n",
       "\\item 'X1.4GT\\_C9.RHA.XX\\_2\\_252\\_X4'\n",
       "\\item 'X1.4GV\\_C9.RHA.XX\\_2\\_252\\_X4'\n",
       "\\end{enumerate*}\n"
      ],
      "text/markdown": [
       "1. 'rs'\n",
       "2. 'X1K894.R1.a_C9.RHA.XX_1_251_X4'\n",
       "3. 'X1K894.R1.b_C9.RHA.XX_1_251_X4'\n",
       "4. 'X1K894.R2.a_C9.RHA.XX_2_252_X4'\n",
       "5. 'X1K894.R2.b_C9.RHA.XX_2_252_X4'\n",
       "6. 'X1K89R.R1.a_C9.RHA.XX_1_251_X4'\n",
       "7. 'X1K89R.R1.b_C9.RHA.XX_1_251_X4'\n",
       "8. 'X1K89R.R2.a_C9.RHA.XX_2_252_X4'\n",
       "9. 'X1K89R.R2.b_C9.RHA.XX_2_252_X4'\n",
       "10. 'X1.4GT_C9.RHA.XX_2_252_X4'\n",
       "11. 'X1.4GV_C9.RHA.XX_2_252_X4'\n",
       "\n",
       "\n"
      ],
      "text/plain": [
       " [1] \"rs\"                             \"X1K894.R1.a_C9.RHA.XX_1_251_X4\"\n",
       " [3] \"X1K894.R1.b_C9.RHA.XX_1_251_X4\" \"X1K894.R2.a_C9.RHA.XX_2_252_X4\"\n",
       " [5] \"X1K894.R2.b_C9.RHA.XX_2_252_X4\" \"X1K89R.R1.a_C9.RHA.XX_1_251_X4\"\n",
       " [7] \"X1K89R.R1.b_C9.RHA.XX_1_251_X4\" \"X1K89R.R2.a_C9.RHA.XX_2_252_X4\"\n",
       " [9] \"X1K89R.R2.b_C9.RHA.XX_2_252_X4\" \"X1.4GT_C9.RHA.XX_2_252_X4\"     \n",
       "[11] \"X1.4GV_C9.RHA.XX_2_252_X4\"     "
      ]
     },
     "metadata": {},
     "output_type": "display_data"
    }
   ],
   "source": [
    "names(M)"
   ]
  },
  {
   "cell_type": "markdown",
   "metadata": {},
   "source": [
    "## Transforming Data\n",
    "\n",
    "Your data is in wide format. It is easier to tarnspose the data to long format do your trick and then trsnpose teh data back to wide format.\n"
   ]
  },
  {
   "cell_type": "code",
   "execution_count": 186,
   "metadata": {
    "collapsed": false
   },
   "outputs": [
    {
     "name": "stderr",
     "output_type": "stream",
     "text": [
      "Warning message:\n",
      ": attributes are not identical across measure variables; they will be dropped"
     ]
    }
   ],
   "source": [
    "N <- M %>% gather(\"nam\", \"val\", starts_with(\"X\")) %>% separate(val, c(\"X_a\",\"X_b\")) \n"
   ]
  },
  {
   "cell_type": "code",
   "execution_count": 187,
   "metadata": {
    "collapsed": false
   },
   "outputs": [
    {
     "data": {
      "text/html": [
       "<table>\n",
       "<thead><tr><th scope=col>rs</th><th scope=col>nam</th><th scope=col>X_a</th><th scope=col>X_b</th></tr></thead>\n",
       "<tbody>\n",
       "\t<tr><td>TP131528                      </td><td>X1K894.R1.a_C9.RHA.XX_1_251_X4</td><td>127                           </td><td>127                           </td></tr>\n",
       "\t<tr><td>TP133733                      </td><td>X1K894.R1.a_C9.RHA.XX_1_251_X4</td><td>127                           </td><td>9                             </td></tr>\n",
       "\t<tr><td>TP163110                      </td><td>X1K894.R1.a_C9.RHA.XX_1_251_X4</td><td>39                            </td><td>10                            </td></tr>\n",
       "\t<tr><td>TP68134                       </td><td>X1K894.R1.a_C9.RHA.XX_1_251_X4</td><td>45                            </td><td>15                            </td></tr>\n",
       "\t<tr><td>TP26092                       </td><td>X1K894.R1.a_C9.RHA.XX_1_251_X4</td><td>32                            </td><td>18                            </td></tr>\n",
       "\t<tr><td>TP120777                      </td><td>X1K894.R1.a_C9.RHA.XX_1_251_X4</td><td>38                            </td><td>3                             </td></tr>\n",
       "</tbody>\n",
       "</table>\n"
      ],
      "text/latex": [
       "\\begin{tabular}{r|llll}\n",
       " rs & nam & X\\_a & X\\_b\\\\\n",
       "\\hline\n",
       "\t TP131528                               & X1K894.R1.a\\_C9.RHA.XX\\_1\\_251\\_X4 & 127                                    & 127                                   \\\\\n",
       "\t TP133733                               & X1K894.R1.a\\_C9.RHA.XX\\_1\\_251\\_X4 & 127                                    & 9                                     \\\\\n",
       "\t TP163110                               & X1K894.R1.a\\_C9.RHA.XX\\_1\\_251\\_X4 & 39                                     & 10                                    \\\\\n",
       "\t TP68134                                & X1K894.R1.a\\_C9.RHA.XX\\_1\\_251\\_X4 & 45                                     & 15                                    \\\\\n",
       "\t TP26092                                & X1K894.R1.a\\_C9.RHA.XX\\_1\\_251\\_X4 & 32                                     & 18                                    \\\\\n",
       "\t TP120777                               & X1K894.R1.a\\_C9.RHA.XX\\_1\\_251\\_X4 & 38                                     & 3                                     \\\\\n",
       "\\end{tabular}\n"
      ],
      "text/plain": [
       "  rs       nam                            X_a X_b\n",
       "1 TP131528 X1K894.R1.a_C9.RHA.XX_1_251_X4 127 127\n",
       "2 TP133733 X1K894.R1.a_C9.RHA.XX_1_251_X4 127 9  \n",
       "3 TP163110 X1K894.R1.a_C9.RHA.XX_1_251_X4 39  10 \n",
       "4 TP68134  X1K894.R1.a_C9.RHA.XX_1_251_X4 45  15 \n",
       "5 TP26092  X1K894.R1.a_C9.RHA.XX_1_251_X4 32  18 \n",
       "6 TP120777 X1K894.R1.a_C9.RHA.XX_1_251_X4 38  3  "
      ]
     },
     "metadata": {},
     "output_type": "display_data"
    }
   ],
   "source": [
    "head(N)"
   ]
  },
  {
   "cell_type": "markdown",
   "metadata": {},
   "source": [
    "## Create data set 'a'\n",
    "\n",
    "Remove X_b because that won't be used in data set 'a' abd trabspose data back\n"
   ]
  },
  {
   "cell_type": "code",
   "execution_count": 188,
   "metadata": {
    "collapsed": false
   },
   "outputs": [
    {
     "data": {
      "text/html": [
       "<table>\n",
       "<thead><tr><th scope=col>rs</th><th scope=col>X1.4GT_C9.RHA.XX_2_252_X4</th><th scope=col>X1.4GV_C9.RHA.XX_2_252_X4</th><th scope=col>X1K894.R1.a_C9.RHA.XX_1_251_X4</th><th scope=col>X1K894.R1.b_C9.RHA.XX_1_251_X4</th><th scope=col>X1K894.R2.a_C9.RHA.XX_2_252_X4</th><th scope=col>X1K894.R2.b_C9.RHA.XX_2_252_X4</th><th scope=col>X1K89R.R1.a_C9.RHA.XX_1_251_X4</th><th scope=col>X1K89R.R1.b_C9.RHA.XX_1_251_X4</th><th scope=col>X1K89R.R2.a_C9.RHA.XX_2_252_X4</th><th scope=col>X1K89R.R2.b_C9.RHA.XX_2_252_X4</th></tr></thead>\n",
       "<tbody>\n",
       "\t<tr><td>TP120777</td><td>38      </td><td>96      </td><td>38      </td><td>30      </td><td>83      </td><td>36      </td><td>40      </td><td>73      </td><td>101     </td><td>52      </td></tr>\n",
       "\t<tr><td>TP131528</td><td>127     </td><td>127     </td><td>127     </td><td>127     </td><td>127     </td><td>127     </td><td>127     </td><td>127     </td><td>127     </td><td>127     </td></tr>\n",
       "\t<tr><td>TP133733</td><td>127     </td><td>127     </td><td>127     </td><td>127     </td><td>127     </td><td>127     </td><td>127     </td><td>127     </td><td>127     </td><td>127     </td></tr>\n",
       "\t<tr><td>TP144766</td><td>18      </td><td>74      </td><td>15      </td><td>19      </td><td>56      </td><td>19      </td><td>55      </td><td>72      </td><td>117     </td><td>68      </td></tr>\n",
       "\t<tr><td>TP163110</td><td>113     </td><td>127     </td><td>39      </td><td>34      </td><td>77      </td><td>32      </td><td>56      </td><td>79      </td><td>127     </td><td>76      </td></tr>\n",
       "\t<tr><td>TP26092 </td><td>37      </td><td>99      </td><td>32      </td><td>25      </td><td>50      </td><td>29      </td><td>22      </td><td>35      </td><td>114     </td><td>46      </td></tr>\n",
       "</tbody>\n",
       "</table>\n"
      ],
      "text/latex": [
       "\\begin{tabular}{r|lllllllllll}\n",
       " rs & X1.4GT\\_C9.RHA.XX\\_2\\_252\\_X4 & X1.4GV\\_C9.RHA.XX\\_2\\_252\\_X4 & X1K894.R1.a\\_C9.RHA.XX\\_1\\_251\\_X4 & X1K894.R1.b\\_C9.RHA.XX\\_1\\_251\\_X4 & X1K894.R2.a\\_C9.RHA.XX\\_2\\_252\\_X4 & X1K894.R2.b\\_C9.RHA.XX\\_2\\_252\\_X4 & X1K89R.R1.a\\_C9.RHA.XX\\_1\\_251\\_X4 & X1K89R.R1.b\\_C9.RHA.XX\\_1\\_251\\_X4 & X1K89R.R2.a\\_C9.RHA.XX\\_2\\_252\\_X4 & X1K89R.R2.b\\_C9.RHA.XX\\_2\\_252\\_X4\\\\\n",
       "\\hline\n",
       "\t TP120777 & 38       & 96       & 38       & 30       & 83       & 36       & 40       & 73       & 101      & 52      \\\\\n",
       "\t TP131528 & 127      & 127      & 127      & 127      & 127      & 127      & 127      & 127      & 127      & 127     \\\\\n",
       "\t TP133733 & 127      & 127      & 127      & 127      & 127      & 127      & 127      & 127      & 127      & 127     \\\\\n",
       "\t TP144766 & 18       & 74       & 15       & 19       & 56       & 19       & 55       & 72       & 117      & 68      \\\\\n",
       "\t TP163110 & 113      & 127      & 39       & 34       & 77       & 32       & 56       & 79       & 127      & 76      \\\\\n",
       "\t TP26092  & 37       & 99       & 32       & 25       & 50       & 29       & 22       & 35       & 114      & 46      \\\\\n",
       "\\end{tabular}\n"
      ],
      "text/plain": [
       "  rs       X1.4GT_C9.RHA.XX_2_252_X4 X1.4GV_C9.RHA.XX_2_252_X4\n",
       "1 TP120777 38                        96                       \n",
       "2 TP131528 127                       127                      \n",
       "3 TP133733 127                       127                      \n",
       "4 TP144766 18                        74                       \n",
       "5 TP163110 113                       127                      \n",
       "6 TP26092  37                        99                       \n",
       "  X1K894.R1.a_C9.RHA.XX_1_251_X4 X1K894.R1.b_C9.RHA.XX_1_251_X4\n",
       "1 38                             30                            \n",
       "2 127                            127                           \n",
       "3 127                            127                           \n",
       "4 15                             19                            \n",
       "5 39                             34                            \n",
       "6 32                             25                            \n",
       "  X1K894.R2.a_C9.RHA.XX_2_252_X4 X1K894.R2.b_C9.RHA.XX_2_252_X4\n",
       "1 83                             36                            \n",
       "2 127                            127                           \n",
       "3 127                            127                           \n",
       "4 56                             19                            \n",
       "5 77                             32                            \n",
       "6 50                             29                            \n",
       "  X1K89R.R1.a_C9.RHA.XX_1_251_X4 X1K89R.R1.b_C9.RHA.XX_1_251_X4\n",
       "1 40                             73                            \n",
       "2 127                            127                           \n",
       "3 127                            127                           \n",
       "4 55                             72                            \n",
       "5 56                             79                            \n",
       "6 22                             35                            \n",
       "  X1K89R.R2.a_C9.RHA.XX_2_252_X4 X1K89R.R2.b_C9.RHA.XX_2_252_X4\n",
       "1 101                            52                            \n",
       "2 127                            127                           \n",
       "3 127                            127                           \n",
       "4 117                            68                            \n",
       "5 127                            76                            \n",
       "6 114                            46                            "
      ]
     },
     "metadata": {},
     "output_type": "display_data"
    }
   ],
   "source": [
    "X_a <- tt %>% select(-X_b) %>% spread(nam, X_a)\n",
    "head(X_a)"
   ]
  },
  {
   "cell_type": "markdown",
   "metadata": {},
   "source": [
    "## Create data set 'b'\n",
    "\n",
    "Remove X_a because that won't be used in data set 'b' abd trabspose data back"
   ]
  },
  {
   "cell_type": "code",
   "execution_count": 190,
   "metadata": {
    "collapsed": false
   },
   "outputs": [
    {
     "data": {
      "text/html": [
       "<table>\n",
       "<thead><tr><th scope=col>X1K894.R1.a_C9.RHA.XX_1_251_X4</th></tr></thead>\n",
       "<tbody>\n",
       "\t<tr><td>3  </td></tr>\n",
       "\t<tr><td>127</td></tr>\n",
       "\t<tr><td>9  </td></tr>\n",
       "\t<tr><td>7  </td></tr>\n",
       "\t<tr><td>10 </td></tr>\n",
       "\t<tr><td>18 </td></tr>\n",
       "\t<tr><td>0  </td></tr>\n",
       "\t<tr><td>15 </td></tr>\n",
       "\t<tr><td>12 </td></tr>\n",
       "</tbody>\n",
       "</table>\n"
      ],
      "text/latex": [
       "\\begin{tabular}{r|l}\n",
       " X1K894.R1.a\\_C9.RHA.XX\\_1\\_251\\_X4\\\\\n",
       "\\hline\n",
       "\t 3  \\\\\n",
       "\t 127\\\\\n",
       "\t 9  \\\\\n",
       "\t 7  \\\\\n",
       "\t 10 \\\\\n",
       "\t 18 \\\\\n",
       "\t 0  \\\\\n",
       "\t 15 \\\\\n",
       "\t 12 \\\\\n",
       "\\end{tabular}\n"
      ],
      "text/plain": [
       "  X1K894.R1.a_C9.RHA.XX_1_251_X4\n",
       "1 3                             \n",
       "2 127                           \n",
       "3 9                             \n",
       "4 7                             \n",
       "5 10                            \n",
       "6 18                            \n",
       "7 0                             \n",
       "8 15                            \n",
       "9 12                            "
      ]
     },
     "metadata": {},
     "output_type": "display_data"
    }
   ],
   "source": [
    "X_b <- tt %>% select(-X_a) %>% spread(nam, X_b)\n",
    "X_b['X1K894.R1.a_C9.RHA.XX_1_251_X4']"
   ]
  },
  {
   "cell_type": "code",
   "execution_count": null,
   "metadata": {
    "collapsed": true
   },
   "outputs": [],
   "source": []
  }
 ],
 "metadata": {
  "kernelspec": {
   "display_name": "R-3.3.0",
   "language": "R",
   "name": "ir3.3.0"
  },
  "language_info": {
   "codemirror_mode": "r",
   "file_extension": ".r",
   "mimetype": "text/x-r-source",
   "name": "R",
   "pygments_lexer": "r",
   "version": "3.3.0"
  }
 },
 "nbformat": 4,
 "nbformat_minor": 1
}
